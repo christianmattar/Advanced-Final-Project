{
  "nbformat": 4,
  "nbformat_minor": 0,
  "metadata": {
    "colab": {
      "provenance": [],
      "authorship_tag": "ABX9TyOIOpHP0H7As+Jjx/OSZE6i",
      "include_colab_link": true
    },
    "kernelspec": {
      "name": "python3",
      "display_name": "Python 3"
    },
    "language_info": {
      "name": "python"
    },
    "accelerator": "GPU"
  },
  "cells": [
    {
      "cell_type": "markdown",
      "metadata": {
        "id": "view-in-github",
        "colab_type": "text"
      },
      "source": [
        "<a href=\"https://colab.research.google.com/github/christianmattar/Advanced-Final-Project/blob/Added-imageToText-conversion/COVID_19.ipynb\" target=\"_parent\"><img src=\"https://colab.research.google.com/assets/colab-badge.svg\" alt=\"Open In Colab\"/></a>"
      ]
    },
    {
      "cell_type": "markdown",
      "source": [
        "# Upload Data from google drive"
      ],
      "metadata": {
        "id": "HpOVJDz63W4a"
      }
    },
    {
      "cell_type": "code",
      "metadata": {
        "id": "DkJs6zvM7og3",
        "colab": {
          "base_uri": "https://localhost:8080/"
        },
        "outputId": "709250d7-c283-4624-9621-fff8bd2f096c"
      },
      "source": [
        "# Upload google drive in our COLAB\n",
        "\n",
        "from google.colab import drive\n",
        "drive.mount('/content/drive')"
      ],
      "execution_count": 1,
      "outputs": [
        {
          "output_type": "stream",
          "name": "stdout",
          "text": [
            "Drive already mounted at /content/drive; to attempt to forcibly remount, call drive.mount(\"/content/drive\", force_remount=True).\n"
          ]
        }
      ]
    },
    {
      "cell_type": "markdown",
      "source": [
        "## install transflow verison 2\n"
      ],
      "metadata": {
        "id": "dB7QmexAj-o2"
      }
    },
    {
      "cell_type": "code",
      "execution_count": 2,
      "metadata": {
        "colab": {
          "base_uri": "https://localhost:8080/"
        },
        "id": "AHx__zFaikVU",
        "outputId": "daa71779-ead9-4ee6-84ab-921e996410c6"
      },
      "outputs": [
        {
          "output_type": "stream",
          "name": "stdout",
          "text": [
            "Colab only includes TensorFlow 2.x; %tensorflow_version has no effect.\n"
          ]
        }
      ],
      "source": [
        "%tensorflow_version 2.x\n",
        "import tensorflow as tf\n"
      ]
    },
    {
      "cell_type": "markdown",
      "source": [
        "## Importing Libraries\n"
      ],
      "metadata": {
        "id": "VNGiP28NlCFX"
      }
    },
    {
      "cell_type": "code",
      "metadata": {
        "id": "srzqN6gR0ldP"
      },
      "source": [
        "# Importing librar\n",
        "\n",
        "import tensorflow.keras\n",
        "from tensorflow.keras.models import Model\n",
        "from tensorflow.keras.layers import Input, Dense, Activation, Flatten, Conv2D, MaxPool2D, Dropout\n",
        "from tensorflow.keras.optimizers import Adam \n",
        "from tensorflow.keras.preprocessing.image import ImageDataGenerator\n",
        "from tensorflow.keras.losses import binary_crossentropy\n",
        "from tensorflow.keras import metrics\n",
        "import matplotlib.pyplot as plt\n",
        "from sklearn.metrics import classification_report, confusion_matrix, plot_confusion_matrix, ConfusionMatrixDisplay\n",
        "import numpy as np\n"
      ],
      "execution_count": 3,
      "outputs": []
    },
    {
      "cell_type": "markdown",
      "source": [
        "##Create path to Folders"
      ],
      "metadata": {
        "id": "rC6BTF_4xzKM"
      }
    },
    {
      "cell_type": "code",
      "metadata": {
        "id": "3k-KAqd7KvHa"
      },
      "source": [
        "\n",
        "\n",
        "train_loc = '/content/drive/MyDrive/out_DATA/train'\n",
        "test_loc = '/content/drive/MyDrive/out_DATA/val/'"
      ],
      "execution_count": 4,
      "outputs": []
    },
    {
      "cell_type": "markdown",
      "source": [
        "Resize Images to 224X224"
      ],
      "metadata": {
        "id": "2cRe0QW-x74U"
      }
    },
    {
      "cell_type": "code",
      "source": [
        "trdata = ImageDataGenerator(rescale= 1./255,\n",
        "                            shear_range = 0.2,\n",
        "                            zoom_range = 0.2,\n",
        "                            horizontal_flip = True,\n",
        ")\n",
        "\n",
        "\n",
        "traindata = trdata.flow_from_directory(directory=train_loc,target_size=(224,224))\n",
        "\n",
        "\n",
        "\n",
        "tsdata = ImageDataGenerator(rescale= 1./255,\n",
        "                            shear_range = 0.2,\n",
        "                            zoom_range = 0.2,\n",
        "                            horizontal_flip = True,\n",
        ")\n",
        "\n",
        "testdata = tsdata.flow_from_directory(directory = test_loc, target_size = (224,224))"
      ],
      "metadata": {
        "colab": {
          "base_uri": "https://localhost:8080/"
        },
        "id": "milHsOh50aP-",
        "outputId": "b395be54-ba7d-4a0c-d7f6-719999e09822"
      },
      "execution_count": 5,
      "outputs": [
        {
          "output_type": "stream",
          "name": "stdout",
          "text": [
            "Found 262 images belonging to 2 classes.\n",
            "Found 114 images belonging to 2 classes.\n"
          ]
        }
      ]
    },
    {
      "cell_type": "code",
      "source": [
        "traindata.class_indices"
      ],
      "metadata": {
        "colab": {
          "base_uri": "https://localhost:8080/"
        },
        "id": "1DCapMI633oT",
        "outputId": "bf10a047-dca2-4c94-8645-1570d4f09a8f"
      },
      "execution_count": null,
      "outputs": [
        {
          "output_type": "execute_result",
          "data": {
            "text/plain": [
              "{'COVID+': 0, 'COVID-': 1}"
            ]
          },
          "metadata": {},
          "execution_count": 40
        }
      ]
    },
    {
      "cell_type": "markdown",
      "source": [
        "##Create The NetWork\n"
      ],
      "metadata": {
        "id": "02quiObn_s3G"
      }
    },
    {
      "cell_type": "code",
      "source": [
        "# define input image\n",
        "input_shape = (224,224,3)\n",
        "\n",
        "# create the Network\n",
        "# Input layer\n",
        "img_imput = Input(shape  = input_shape, name = 'img_input')\n",
        "\n",
        "# Convo layers\n",
        "x = Conv2D(32, (3,3) , padding = 'same' , activation='relu', name = 'layer_1') (img_imput)\n",
        "x = Conv2D(64, (3,3) , padding = 'same' , activation='relu', name = 'layer_2') (x)\n",
        "x = MaxPool2D((2,2), strides=(2,2), name = 'layer_3') (x)\n",
        "x = Dropout(0.25)(x)\n",
        "\n",
        "x = Conv2D(64, (3,3) , padding = 'same' , activation='relu', name = 'layer_4') (x)\n",
        "x = MaxPool2D((2,2), strides=(2,2), name = 'layer_5') (x)\n",
        "x = Dropout(0.25)(x)\n",
        "\n",
        "x = Conv2D(128, (3,3) , padding = 'same' , activation='relu', name = 'layer_6') (x)\n",
        "x = MaxPool2D((2,2), strides=(2,2), name = 'layer_7') (x)\n",
        "x = Dropout(0.25)(x)\n",
        "\n",
        "x = Flatten(name = 'fc_1')(x)\n",
        "x= Dense(64, name = 'lyaer_8')(x)\n",
        "x = Dropout(0.5) (x)\n",
        "x = Dense(2, activation='sigmoid', name='predictions')(x)\n",
        "\n"
      ],
      "metadata": {
        "id": "6Fmc-nd8_6kz"
      },
      "execution_count": null,
      "outputs": []
    },
    {
      "cell_type": "markdown",
      "source": [
        "## Generate the model"
      ],
      "metadata": {
        "id": "JL4HFIvUHU_l"
      }
    },
    {
      "cell_type": "code",
      "source": [
        "model = Model(inputs = img_imput , outputs = x , name = 'CNN_COVID_19')"
      ],
      "metadata": {
        "id": "ZAo2ZCc8HTk9"
      },
      "execution_count": null,
      "outputs": []
    },
    {
      "cell_type": "markdown",
      "source": [
        "## pint network Structure"
      ],
      "metadata": {
        "id": "IQFpR0gzH5yT"
      }
    },
    {
      "cell_type": "code",
      "source": [
        "model.summary()"
      ],
      "metadata": {
        "colab": {
          "base_uri": "https://localhost:8080/"
        },
        "id": "xZYu60qwIBWf",
        "outputId": "d32caa41-2e32-4480-98e4-9868ffaf6b0d"
      },
      "execution_count": null,
      "outputs": [
        {
          "output_type": "stream",
          "name": "stdout",
          "text": [
            "Model: \"CNN_COVID_19\"\n",
            "_________________________________________________________________\n",
            " Layer (type)                Output Shape              Param #   \n",
            "=================================================================\n",
            " img_input (InputLayer)      [(None, 224, 224, 3)]     0         \n",
            "                                                                 \n",
            " layer_1 (Conv2D)            (None, 224, 224, 32)      896       \n",
            "                                                                 \n",
            " layer_2 (Conv2D)            (None, 224, 224, 64)      18496     \n",
            "                                                                 \n",
            " layer_3 (MaxPooling2D)      (None, 112, 112, 64)      0         \n",
            "                                                                 \n",
            " dropout_1 (Dropout)         (None, 112, 112, 64)      0         \n",
            "                                                                 \n",
            " layer_4 (Conv2D)            (None, 112, 112, 64)      36928     \n",
            "                                                                 \n",
            " layer_5 (MaxPooling2D)      (None, 56, 56, 64)        0         \n",
            "                                                                 \n",
            " dropout_2 (Dropout)         (None, 56, 56, 64)        0         \n",
            "                                                                 \n",
            " layer_6 (Conv2D)            (None, 56, 56, 128)       73856     \n",
            "                                                                 \n",
            " layer_7 (MaxPooling2D)      (None, 28, 28, 128)       0         \n",
            "                                                                 \n",
            " dropout_3 (Dropout)         (None, 28, 28, 128)       0         \n",
            "                                                                 \n",
            " fc_1 (Flatten)              (None, 100352)            0         \n",
            "                                                                 \n",
            " lyaer_8 (Dense)             (None, 64)                6422592   \n",
            "                                                                 \n",
            " dropout_4 (Dropout)         (None, 64)                0         \n",
            "                                                                 \n",
            " predictions (Dense)         (None, 2)                 130       \n",
            "                                                                 \n",
            "=================================================================\n",
            "Total params: 6,552,898\n",
            "Trainable params: 6,552,898\n",
            "Non-trainable params: 0\n",
            "_________________________________________________________________\n"
          ]
        }
      ]
    },
    {
      "cell_type": "markdown",
      "source": [
        "## Cmpiling the model"
      ],
      "metadata": {
        "id": "wXbYXIK0I0gI"
      }
    },
    {
      "cell_type": "code",
      "source": [
        "model.compile(optimizer= 'adam' , loss= binary_crossentropy , metrics=['accuracy'])"
      ],
      "metadata": {
        "id": "idJoutAXI7MC"
      },
      "execution_count": null,
      "outputs": []
    },
    {
      "cell_type": "markdown",
      "source": [
        "## Start Train / test\n"
      ],
      "metadata": {
        "id": "GZfpJ--7JSFC"
      }
    },
    {
      "cell_type": "code",
      "source": [
        "\n",
        "batch_size = 32\n",
        "hist = model.fit(traindata, steps_per_epoch = traindata.samples//batch_size,\n",
        "                 validation_data = testdata,validation_steps = testdata.samples//batch_size,\n",
        "                 epochs = 10\n",
        "                 )"
      ],
      "metadata": {
        "colab": {
          "base_uri": "https://localhost:8080/"
        },
        "id": "PX0pUj93JVxb",
        "outputId": "61cd3e7b-8354-47cd-e307-5f4ac0c4327b"
      },
      "execution_count": null,
      "outputs": [
        {
          "output_type": "stream",
          "name": "stdout",
          "text": [
            "Epoch 1/10\n",
            "8/8 [==============================] - 132s 15s/step - loss: 1.4237 - accuracy: 0.6391 - val_loss: 0.6750 - val_accuracy: 0.8438\n",
            "Epoch 2/10\n",
            "8/8 [==============================] - 12s 2s/step - loss: 0.5948 - accuracy: 0.7087 - val_loss: 0.5459 - val_accuracy: 0.8542\n",
            "Epoch 3/10\n",
            "8/8 [==============================] - 12s 2s/step - loss: 0.4241 - accuracy: 0.8359 - val_loss: 0.3275 - val_accuracy: 0.8542\n",
            "Epoch 4/10\n",
            "8/8 [==============================] - 12s 1s/step - loss: 0.3472 - accuracy: 0.8348 - val_loss: 0.2779 - val_accuracy: 0.9271\n",
            "Epoch 5/10\n",
            "8/8 [==============================] - 12s 1s/step - loss: 0.2958 - accuracy: 0.8957 - val_loss: 0.2573 - val_accuracy: 0.8958\n",
            "Epoch 6/10\n",
            "8/8 [==============================] - 12s 1s/step - loss: 0.2290 - accuracy: 0.9304 - val_loss: 0.2192 - val_accuracy: 0.9688\n",
            "Epoch 7/10\n",
            "8/8 [==============================] - 12s 1s/step - loss: 0.2020 - accuracy: 0.9435 - val_loss: 0.2876 - val_accuracy: 0.8958\n",
            "Epoch 8/10\n",
            "8/8 [==============================] - 12s 2s/step - loss: 0.1889 - accuracy: 0.9435 - val_loss: 0.1931 - val_accuracy: 0.9792\n",
            "Epoch 9/10\n",
            "8/8 [==============================] - 12s 1s/step - loss: 0.1551 - accuracy: 0.9478 - val_loss: 0.1838 - val_accuracy: 0.9479\n",
            "Epoch 10/10\n",
            "8/8 [==============================] - 12s 1s/step - loss: 0.1545 - accuracy: 0.9609 - val_loss: 0.1453 - val_accuracy: 0.9583\n"
          ]
        }
      ]
    },
    {
      "cell_type": "markdown",
      "source": [
        "## plot history loss\n",
        "\n"
      ],
      "metadata": {
        "id": "2d4pQj4mMXoT"
      }
    },
    {
      "cell_type": "code",
      "source": [
        "plt.plot(hist.history['loss'],label = 'train')\n",
        "plt.plot (hist.history['val_loss'],label = 'val')\n",
        "plt.title('CNN_COVID_19 : Loss & valdation loss')\n",
        "plt.legend()\n",
        "plt.show()"
      ],
      "metadata": {
        "colab": {
          "base_uri": "https://localhost:8080/",
          "height": 281
        },
        "id": "FiAJl85RMZ4w",
        "outputId": "67610aae-8088-4698-ba17-a6a9eda0f230"
      },
      "execution_count": null,
      "outputs": [
        {
          "output_type": "display_data",
          "data": {
            "text/plain": [
              "<Figure size 432x288 with 1 Axes>"
            ],
            "image/png": "[encoded data removed]"
          },
          "metadata": {
            "needs_background": "light"
          }
        }
      ]
    },
    {
      "cell_type": "markdown",
      "source": [
        "## plot history accuracy"
      ],
      "metadata": {
        "id": "3kmiFdNlNbJo"
      }
    },
    {
      "cell_type": "code",
      "source": [
        "plt.plot(hist.history['accuracy'],label = 'train')\n",
        "plt.plot (hist.history['val_accuracy'],label = 'val')\n",
        "plt.title('CNN_COVID_19 : accuracy & valdation accuracy')\n",
        "plt.legend()\n",
        "plt.show()"
      ],
      "metadata": {
        "colab": {
          "base_uri": "https://localhost:8080/",
          "height": 281
        },
        "id": "62UpTCSqNiwi",
        "outputId": "e6796210-6b65-45f0-a857-ba5094fa47ab"
      },
      "execution_count": null,
      "outputs": [
        {
          "output_type": "display_data",
          "data": {
            "text/plain": [
              "<Figure size 432x288 with 1 Axes>"
            ],
            "image/png": "[encoded data removed]"
          },
          "metadata": {
            "needs_background": "light"
          }
        }
      ]
    },
    {
      "cell_type": "markdown",
      "source": [
        "# Confusion Matrix  & Pres  & Recall   & F1-Score\n"
      ],
      "metadata": {
        "id": "S6E2DhS3ROXQ"
      }
    },
    {
      "cell_type": "code",
      "source": [
        "\n",
        "target_names = ['COVID+', 'COVID-']\n",
        "label_names = [0,1]\n",
        "\n",
        "Y_pred = model.predict_generator(testdata)\n",
        "y_pred = np.argmax(Y_pred ,  axis = 1)\n",
        "\n",
        "cm = confusion_matrix(testdata.classes, y_pred, labels = label_names)\n",
        "\n",
        "\n",
        "print('Confusion Matrix')\n",
        "print(confusion_matrix(testdata.classes, y_pred))\n",
        "\n",
        "print('classification_Report')\n",
        "print(classification_report(testdata.classes, y_pred, target_names=target_names))\n",
        "\n",
        "disp = ConfusionMatrixDisplay(confusion_matrix= cm, display_labels=target_names)\n",
        "disp = disp.plot(cmap=plt.cm.Blues, values_format = 'g')\n",
        "plt.show()\n"
      ],
      "metadata": {
        "colab": {
          "base_uri": "https://localhost:8080/",
          "height": 563
        },
        "id": "ZlY6q9xfREJQ",
        "outputId": "9097f75e-c228-4e73-eea6-3939f33d746a"
      },
      "execution_count": null,
      "outputs": [
        {
          "output_type": "stream",
          "name": "stderr",
          "text": [
            "/usr/local/lib/python3.7/dist-packages/ipykernel_launcher.py:4: UserWarning: `Model.predict_generator` is deprecated and will be removed in a future version. Please use `Model.predict`, which supports generators.\n",
            "  after removing the cwd from sys.path.\n"
          ]
        },
        {
          "output_type": "stream",
          "name": "stdout",
          "text": [
            "Confusion Matrix\n",
            "[[30 29]\n",
            " [31 24]]\n",
            "classification_Report\n",
            "              precision    recall  f1-score   support\n",
            "\n",
            "      COVID+       0.49      0.51      0.50        59\n",
            "      COVID-       0.45      0.44      0.44        55\n",
            "\n",
            "    accuracy                           0.47       114\n",
            "   macro avg       0.47      0.47      0.47       114\n",
            "weighted avg       0.47      0.47      0.47       114\n",
            "\n"
          ]
        },
        {
          "output_type": "display_data",
          "data": {
            "text/plain": [
              "<Figure size 432x288 with 2 Axes>"
            ],
            "image/png": "[encoded data removed]"
          },
          "metadata": {
            "needs_background": "light"
          }
        }
      ]
    }
  ]
}